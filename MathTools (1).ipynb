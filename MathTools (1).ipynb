{
  "cells": [
    {
      "cell_type": "markdown",
      "source": [
        "#Determinant"
      ],
      "metadata": {
        "id": "b4P9mGiSS19d"
      },
      "id": "b4P9mGiSS19d"
    },
    {
      "cell_type": "code",
      "execution_count": 47,
      "id": "30be37de",
      "metadata": {
        "colab": {
          "base_uri": "https://localhost:8080/"
        },
        "id": "30be37de",
        "outputId": "bc93643e-935f-4810-a9ee-07dfe95d3bbb"
      },
      "outputs": [
        {
          "output_type": "stream",
          "name": "stdout",
          "text": [
            "The determinant of the Matrix A is:   5\n",
            "The determinant of the Matrix A is:   -44\n",
            "The determinant of the Matrix A is:   -233\n",
            "The determinant of the Matrix A is:   800\n"
          ]
        }
      ],
      "source": [
        "import numpy as np\n",
        "import copy\n",
        "from math import sqrt\n",
        "import numpy as np \n",
        "import sympy as sp\n",
        "from sympy import * \n",
        "\n",
        "def det(a):\n",
        "    \n",
        "    if len(a) ==1: # if size =1\n",
        "        d = a[0]\n",
        "        return d\n",
        "    elif len(a)==2:\n",
        "        d = a[0][0]*a[1][1] - a[1][0]*a[0][1] #if size =2\n",
        "        return d\n",
        "    else:\n",
        "        d = 0\n",
        "        for i in range(len(a[0])):\n",
        "            s_m=np.delete(np.delete(a,0,0),i,1)\n",
        "            d += ((-1)**i)*a[0][i]*det((s_m)) #if size >2\n",
        "\n",
        "        return d\n",
        "# testing \n",
        "A = [5]\n",
        "B = [[2,9],[6,5]]\n",
        "C = [[2,9,0],[6,5,1],[9,3,7]]\n",
        "D = [[2,9,0,5],[6,5,5,1],[9,4,3,7],[5,4,5,3]]\n",
        "\n",
        "print(\"The determinant of the Matrix A is:  \", det(A))\n",
        "print(\"The determinant of the Matrix A is:  \", det(B))\n",
        "print(\"The determinant of the Matrix A is:  \", det(C))\n",
        "print(\"The determinant of the Matrix A is:  \", det(D))\n"
      ]
    },
    {
      "cell_type": "markdown",
      "source": [
        "#Trace"
      ],
      "metadata": {
        "id": "tKhLPwq-S7kS"
      },
      "id": "tKhLPwq-S7kS"
    },
    {
      "cell_type": "code",
      "source": [
        "print(\"TRACE                \")      \n",
        "def trace(a):\n",
        "  return (sum(np.diag(a)))\n",
        "# testing \n",
        "A = [5]\n",
        "B = [[2,9],[6,5]]\n",
        "C = [[2,9,0],[6,5,1],[9,3,7]]\n",
        "\n",
        "print(\"The trace of the Matrix A is:  \", trace(A))\n",
        "print(\"The trace of the Matrix A is:  \", trace(B))\n",
        "print(\"The trace of the Matrix A is:  \", trace(C))"
      ],
      "metadata": {
        "colab": {
          "base_uri": "https://localhost:8080/"
        },
        "id": "5jEAznD8PvAs",
        "outputId": "4428b59b-92f7-4007-9cbe-695dd26911e1"
      },
      "id": "5jEAznD8PvAs",
      "execution_count": 5,
      "outputs": [
        {
          "output_type": "stream",
          "name": "stdout",
          "text": [
            "TRACE                \n",
            "The trace of the Matrix A is:   [5]\n",
            "The trace of the Matrix A is:   7\n",
            "The trace of the Matrix A is:   14\n"
          ]
        }
      ]
    },
    {
      "cell_type": "markdown",
      "source": [
        "#Eigenspace"
      ],
      "metadata": {
        "id": "1Uc2zQ4qTAGf"
      },
      "id": "1Uc2zQ4qTAGf"
    },
    {
      "cell_type": "code",
      "source": [
        "\n",
        "print(\"Eigenvalues/Eigenvectors\")\n",
        "def eigenD(matrix):\n",
        "   l = len(matrix) #M \n",
        "   eye = np.eye(l,l) # I matrix \n",
        "   lmbda= sp.Symbol('lda') \n",
        "   m= matrix - (lmbda*eye) \n",
        "   pa=det(m) # calculate determinant \n",
        "   pa_sol=sp.Symbol.cancel(pa) # charecstic polynomial\n",
        "   ldt=sp.solve(pa,lmbda) \n",
        "   ldt=np.sort(ldt)\n",
        "   print(\"Eigenvalues are: \",ldt) \n",
        "   for i in ldt:\n",
        "     #print(' calculating eigen vector of lambda : ', i)\n",
        "     m= matrix - (i*eye) \n",
        "     M=Matrix(m) \n",
        "     M_rref = M.rref()  # rref \n",
        "     rrf=M_rref[0] \n",
        "     rrf=np.array(rrf) \n",
        "     eye=np.array(eye)\n",
        "     for i in range(rrf.shape[0]):\n",
        "       if rrf[i][i]==0:\n",
        "         rrf[i][i]= -1 \n",
        "     for i in range(rrf.shape[1]):\n",
        "          if np.array_equal(rrf[:,i], eye[:,i]) :\n",
        "            pass\n",
        "          else:\n",
        "            print(' eigen vectors are \\n',-1*rrf[:,i])\n",
        "           \n",
        "A = [[1, 2, 1],\n",
        "    [0, -5, 0],\n",
        "      [1, 8, 1]]    \n",
        "       \n",
        "eigenD(A)       "
      ],
      "metadata": {
        "colab": {
          "base_uri": "https://localhost:8080/"
        },
        "id": "7KbbMUOKPvWv",
        "outputId": "1ffad000-add7-40c1-f7be-34e1fabf2692"
      },
      "id": "7KbbMUOKPvWv",
      "execution_count": 15,
      "outputs": [
        {
          "output_type": "stream",
          "name": "stdout",
          "text": [
            "Eigenvalues/Eigenvectors\n",
            "Eigenvalues are:  [-5.00000000000000 0.0 2.00000000000000]\n",
            " eigen vectors are \n",
            " [0.0869565217391304 -0.760869565217391 1]\n",
            " eigen vectors are \n",
            " [-1 0 1]\n",
            " eigen vectors are \n",
            " [1.00000000000000 0 1]\n"
          ]
        }
      ]
    },
    {
      "cell_type": "markdown",
      "source": [
        "#LU decomposition"
      ],
      "metadata": {
        "id": "vhHga5pXTLgu"
      },
      "id": "vhHga5pXTLgu"
    },
    {
      "cell_type": "markdown",
      "source": [
        "##Crout"
      ],
      "metadata": {
        "id": "yqTnJNQ0VDQg"
      },
      "id": "yqTnJNQ0VDQg"
    },
    {
      "cell_type": "code",
      "source": [
        "import numpy as np\n",
        "from cmath import e\n",
        "\n",
        "def crout(A):\n",
        "    n = len(A)\n",
        "    L = np.zeros((n, n))\n",
        "    U = np.zeros((n, n))\n",
        "    for j in range(n):\n",
        "        U[j][j] = 1             # set the j,j-th entry of U to 1\n",
        "        for i in range(j, n):  # starting at L[j][j], solve j-th column of L\n",
        "            alpha = float(A[i][j])\n",
        "            for k in range(j):\n",
        "                alpha -= L[i][k]*U[k][j]\n",
        "            L[i][j] = alpha\n",
        "        for i in range(j+1, n):# starting at U[j][j+1], solve j-th row of U\n",
        "            tempU = float(A[j][i])\n",
        "            for k in range(j):\n",
        "                tempU -= L[j][k]*U[k][i]\n",
        "            if int(L[j][j]) == 0:\n",
        "                L[j][j] = e-40\n",
        "            U[j][i] = tempU/L[j][j]\n",
        "\n",
        "    return 'L ; ' , L, 'U : ' , U ,'L@U : ' , L@U\n",
        "mat =np.array([[1, 3, 5],\n",
        "\t [0, 4, 6],\n",
        "\t  [0, 2, 4]])\n",
        "crout(mat)"
      ],
      "metadata": {
        "colab": {
          "base_uri": "https://localhost:8080/"
        },
        "id": "qb3NhUKSS04Z",
        "outputId": "cf15d702-a709-4b64-8b1e-0dd7b739a285"
      },
      "id": "qb3NhUKSS04Z",
      "execution_count": 27,
      "outputs": [
        {
          "output_type": "execute_result",
          "data": {
            "text/plain": [
              "('L ; ',\n",
              " array([[1., 0., 0.],\n",
              "        [0., 4., 0.],\n",
              "        [0., 2., 1.]]),\n",
              " 'U : ',\n",
              " array([[1. , 3. , 5. ],\n",
              "        [0. , 1. , 1.5],\n",
              "        [0. , 0. , 1. ]]),\n",
              " 'L@U : ',\n",
              " array([[1., 3., 5.],\n",
              "        [0., 4., 6.],\n",
              "        [0., 2., 4.]]))"
            ]
          },
          "metadata": {},
          "execution_count": 27
        }
      ]
    },
    {
      "cell_type": "code",
      "source": [
        "mat =np.array([[2, -1, -2],\n",
        "\t[-4, 7, 3],\n",
        "\t[-4, -2, 8]])\n",
        "crout(mat)"
      ],
      "metadata": {
        "colab": {
          "base_uri": "https://localhost:8080/"
        },
        "id": "GT6a9D6KUf49",
        "outputId": "96c3fd56-0965-48db-875b-c8a73da466ba"
      },
      "id": "GT6a9D6KUf49",
      "execution_count": 28,
      "outputs": [
        {
          "output_type": "execute_result",
          "data": {
            "text/plain": [
              "('L ; ',\n",
              " array([[ 2. ,  0. ,  0. ],\n",
              "        [-4. ,  5. ,  0. ],\n",
              "        [-4. , -4. ,  3.2]]),\n",
              " 'U : ',\n",
              " array([[ 1. , -0.5, -1. ],\n",
              "        [ 0. ,  1. , -0.2],\n",
              "        [ 0. ,  0. ,  1. ]]),\n",
              " 'L@U : ',\n",
              " array([[ 2., -1., -2.],\n",
              "        [-4.,  7.,  3.],\n",
              "        [-4., -2.,  8.]]))"
            ]
          },
          "metadata": {},
          "execution_count": 28
        }
      ]
    },
    {
      "cell_type": "markdown",
      "source": [
        "##Gaussian E"
      ],
      "metadata": {
        "id": "dxM9lGlLVZ5E"
      },
      "id": "dxM9lGlLVZ5E"
    },
    {
      "cell_type": "code",
      "source": [
        "def LU_decomposition(A):\n",
        "    import numpy as np\n",
        "    if type(A) != np.ndarray:\n",
        "        raise TypeError('Input must be a numpy array, type {} will not work'.format(type(A)))\n",
        "    if np.shape(A)[0] != np.shape(A)[1]:\n",
        "        raise ValueError('Input matrix is not square, shape {} will not work'.format(np.shape(A)))\n",
        "    L = np.zeros_like(A, dtype=float)\n",
        "    U = np.zeros_like(A, dtype=float)\n",
        "    N = np.size(A, 0) #rows\n",
        "    for k in range(N):\n",
        "        L[k, k] = 1 \n",
        "        U[k, k] = A[k, k] - np.dot(L[k, :k], U[:k, k])\n",
        "        \n",
        "        for j in range(k+1, N):\n",
        "            U[k, j] = A[k, j] - np.dot(L[k, :k], U[:k, j])\n",
        "        for i in range(k+1, N):\n",
        "            L[i, k] = (A[i, k] - np.dot(L[i, :k], U[:k, k])) / U[k, k]\n",
        "    return A, L, U, L@U\n",
        "LU_decomposition(mat)"
      ],
      "metadata": {
        "colab": {
          "base_uri": "https://localhost:8080/"
        },
        "id": "Xp5bsWruUsW8",
        "outputId": "972ac656-69b6-4cc1-d1b8-badba36a3a4c"
      },
      "id": "Xp5bsWruUsW8",
      "execution_count": 29,
      "outputs": [
        {
          "output_type": "execute_result",
          "data": {
            "text/plain": [
              "(array([[ 2, -1, -2],\n",
              "        [-4,  7,  3],\n",
              "        [-4, -2,  8]]),\n",
              " array([[ 1. ,  0. ,  0. ],\n",
              "        [-2. ,  1. ,  0. ],\n",
              "        [-2. , -0.8,  1. ]]),\n",
              " array([[ 2. , -1. , -2. ],\n",
              "        [ 0. ,  5. , -1. ],\n",
              "        [ 0. ,  0. ,  3.2]]),\n",
              " array([[ 2., -1., -2.],\n",
              "        [-4.,  7.,  3.],\n",
              "        [-4., -2.,  8.]]))"
            ]
          },
          "metadata": {},
          "execution_count": 29
        }
      ]
    },
    {
      "cell_type": "code",
      "source": [
        "mat =np.array([[6, 18, 3],\n",
        "\t [2, 12, 1],\n",
        "\t  [4, 15, 3]])\n",
        "LU_decomposition(mat)"
      ],
      "metadata": {
        "colab": {
          "base_uri": "https://localhost:8080/"
        },
        "id": "LvkoHQo2U_As",
        "outputId": "dcbde721-c214-4a00-b64d-48950eccc560"
      },
      "id": "LvkoHQo2U_As",
      "execution_count": 30,
      "outputs": [
        {
          "output_type": "execute_result",
          "data": {
            "text/plain": [
              "(array([[ 6, 18,  3],\n",
              "        [ 2, 12,  1],\n",
              "        [ 4, 15,  3]]),\n",
              " array([[1.        , 0.        , 0.        ],\n",
              "        [0.33333333, 1.        , 0.        ],\n",
              "        [0.66666667, 0.5       , 1.        ]]),\n",
              " array([[ 6., 18.,  3.],\n",
              "        [ 0.,  6.,  0.],\n",
              "        [ 0.,  0.,  1.]]),\n",
              " array([[ 6., 18.,  3.],\n",
              "        [ 2., 12.,  1.],\n",
              "        [ 4., 15.,  3.]]))"
            ]
          },
          "metadata": {},
          "execution_count": 30
        }
      ]
    },
    {
      "cell_type": "markdown",
      "source": [
        "#SVD decomposition"
      ],
      "metadata": {
        "id": "Vu4ZDyUzTOBG"
      },
      "id": "Vu4ZDyUzTOBG"
    },
    {
      "cell_type": "code",
      "source": [
        "def my_SVD0(A):\n",
        "    # rows of A\n",
        "    m = A.shape[0]\n",
        "    # columns of A\n",
        "    n = A.shape[1]\n",
        "    \n",
        "    # Find Eigenvectors of AA_T\n",
        "    Uw, U = np.linalg.eig(A.dot(A.T))\n",
        "\n",
        "    # Sort the eigenvalue and eigenvector\n",
        "    idx = Uw.argsort()[::-1]   \n",
        "    Uw = Uw[idx]\n",
        "    U = U[:,idx]\n",
        "    \n",
        "    # Find Eigenvectors of A_TA\n",
        "    Vw, V = np.linalg.eig(A.T.dot(A))\n",
        "    # Sort the eigenvalue and eigenvector\n",
        "    idx = Vw.argsort()[::-1]   \n",
        "    Vw = Vw[idx]\n",
        "    V = V[:,idx]\n",
        "\n",
        "    # Choose the smaller dimension size\n",
        "    w = Uw if m<n else Vw\n",
        "    # Make small negative value zero\n",
        "    w[np.where(w<0)] = 1e-30\n",
        "    w = np.sqrt(w)\n",
        "    # Find the amount of non-zero singular value\n",
        "    #non_zero_eig = w[np.where(w>1e-10)].size\n",
        "    \n",
        "    # Sigma\n",
        "    S = np.zeros((m,n))\n",
        "    np.fill_diagonal(S, w)\n",
        "    \n",
        "    # w * w_r = 1 \n",
        "    w_r = np.reciprocal(w)\n",
        "    if m>n:\n",
        "        # Inverse of Sigma\n",
        "        S_inv = np.zeros((n,m))\n",
        "        np.fill_diagonal(S_inv, w_r)\n",
        "        # Calculalte U by A V S_inv\n",
        "        U = A.dot(V).dot(S_inv)\n",
        "        \n",
        "    else:\n",
        "        # Inverse of Sigma_T\n",
        "        S_T_inv = np.zeros((m,n))\n",
        "        np.fill_diagonal(S_T_inv, w_r)\n",
        "        # Calculate V by A_T U S_T_inv\n",
        "        V = A.T.dot(U).dot(S_T_inv)\n",
        "        \n",
        "\n",
        "    \n",
        "    return U, S, V.T , np.round(U@S@V.T)\n",
        "A =np.array([[1, 0, 1,0],\n",
        "    [0, 1,0, 1]])\n",
        "\n",
        "my_SVD0(A)"
      ],
      "metadata": {
        "colab": {
          "base_uri": "https://localhost:8080/"
        },
        "id": "3qFkR1kXTR9l",
        "outputId": "e2b552bb-b2cc-4a72-c4c4-b53e32ffa3b5"
      },
      "id": "3qFkR1kXTR9l",
      "execution_count": 31,
      "outputs": [
        {
          "output_type": "execute_result",
          "data": {
            "text/plain": [
              "(array([[0., 1.],\n",
              "        [1., 0.]]),\n",
              " array([[1.41421356, 0.        , 0.        , 0.        ],\n",
              "        [0.        , 1.41421356, 0.        , 0.        ]]),\n",
              " array([[0.        , 0.70710678, 0.        , 0.70710678],\n",
              "        [0.70710678, 0.        , 0.70710678, 0.        ],\n",
              "        [0.        , 0.        , 0.        , 0.        ],\n",
              "        [0.        , 0.        , 0.        , 0.        ]]),\n",
              " array([[1., 0., 1., 0.],\n",
              "        [0., 1., 0., 1.]]))"
            ]
          },
          "metadata": {},
          "execution_count": 31
        }
      ]
    },
    {
      "cell_type": "code",
      "source": [
        "import numpy as np\n",
        "\n",
        "def make_orthogonal(matrix, non_zero_eig):\n",
        "    dim = matrix.shape[0]\n",
        "    \n",
        "    if non_zero_eig == dim:\n",
        "        return matrix\n",
        "    \n",
        "    Q, _ = np.linalg.qr(matrix[:, :non_zero_eig])\n",
        "    \n",
        "    matrix[:, non_zero_eig:non_zero_eig+1] = Q[:, -1:]\n",
        "    matrix[:, non_zero_eig:non_zero_eig+1] /= np.linalg.norm(matrix[:, non_zero_eig:non_zero_eig+1], axis=0)\n",
        "    \n",
        "    return make_orthogonal(matrix, non_zero_eig+1)\n"
      ],
      "metadata": {
        "id": "JEFdykT0ZiyN"
      },
      "id": "JEFdykT0ZiyN",
      "execution_count": 41,
      "outputs": []
    },
    {
      "cell_type": "code",
      "source": [
        "import numpy as np\n",
        "from sympy import symbols\n",
        "from sympy.solvers import solve\n",
        "\n",
        "def my_SVD(A):\n",
        "    # rows of A\n",
        "    m = A.shape[0]\n",
        "    # columns of A\n",
        "    n = A.shape[1]\n",
        "    \n",
        "    # Find Eigenvectors of AA_T\n",
        "    Uw, U = np.linalg.eig(A.dot(A.T))\n",
        "    # Sort the eigenvalue and eigenvector\n",
        "    idx = Uw.argsort()[::-1]   \n",
        "    Uw = Uw[idx]\n",
        "    U = U[:,idx]\n",
        "    \n",
        "    # Find Eigenvectors of A_TA\n",
        "    Vw, V = np.linalg.eig(A.T.dot(A))\n",
        "    # Sort the eigenvalue and eigenvector\n",
        "    idx = Vw.argsort()[::-1]   \n",
        "    Vw = Vw[idx]\n",
        "    V = V[:,idx]\n",
        "\n",
        "    # Choose the smaller dimension size\n",
        "    w = Uw if m<n else Vw\n",
        "    # Make small negative value  griba l zero, zero\n",
        "    w[np.where(w<0)] = 1e-30\n",
        "    #bcz mygderch y70t sqrt fiha negative value\n",
        "    w = np.sqrt(w)\n",
        "    # Find the amount of non-zero singular value\n",
        "    non_zero_eig = w[np.where(w>1e-10)].size\n",
        "    \n",
        "    # Sigma\n",
        "    S = np.zeros((m,n))\n",
        "    #n7oto fi diagonal sigmatt li kheyrnahm \n",
        "    np.fill_diagonal(S, w)\n",
        "    \n",
        "    # w * w_r = 1\n",
        "    w_r = np.reciprocal(w)\n",
        "    if m>n:\n",
        "        #if 3dd lignes > mn 3dd cols\n",
        "        # Inverse of Sigma\n",
        "        S_inv = np.zeros((n,m))\n",
        "        np.fill_diagonal(S_inv, w_r)\n",
        "        # Calculalte U by A V S_inv\n",
        "        U = A.dot(V).dot(S_inv)\n",
        "        \n",
        "    else:\n",
        "        # Inverse of Sigma_T\n",
        "        S_T_inv = np.zeros((m,n))\n",
        "        np.fill_diagonal(S_T_inv, w_r)\n",
        "        # Calculate V by A_T U S_T_inv\n",
        "        V = A.T.dot(U).dot(S_T_inv)\n",
        "        \n",
        "    # Make U orthogonal\n",
        "    U = make_orthogonal(U, non_zero_eig)\n",
        "     # Make V orthogonal\n",
        "    V = make_orthogonal(V, non_zero_eig)\n",
        "    \n",
        "    return U, S, V.T , np.round(U@S@V.T)\n",
        "A =np.array([[1, 0, 1,0],\n",
        "    [0, 1,0, 1]])\n",
        "\n",
        "my_SVD(A)\n"
      ],
      "metadata": {
        "colab": {
          "base_uri": "https://localhost:8080/"
        },
        "id": "k6G42252Z0JH",
        "outputId": "c7304968-64d0-4964-e1ab-9c3a8f6f7aa1"
      },
      "id": "k6G42252Z0JH",
      "execution_count": 42,
      "outputs": [
        {
          "output_type": "execute_result",
          "data": {
            "text/plain": [
              "(array([[0., 1.],\n",
              "        [1., 0.]]),\n",
              " array([[1.41421356, 0.        , 0.        , 0.        ],\n",
              "        [0.        , 1.41421356, 0.        , 0.        ]]),\n",
              " array([[ 0.00000000e+00,  7.07106781e-01,  0.00000000e+00,\n",
              "          7.07106781e-01],\n",
              "        [ 7.07106781e-01,  0.00000000e+00,  7.07106781e-01,\n",
              "          0.00000000e+00],\n",
              "        [ 7.07106781e-01,  1.11022302e-16,  7.07106781e-01,\n",
              "          1.11022302e-16],\n",
              "        [ 3.04737854e-01, -6.38071187e-01, -3.04737854e-01,\n",
              "          6.38071187e-01]]),\n",
              " array([[1., 0., 1., 0.],\n",
              "        [0., 1., 0., 1.]]))"
            ]
          },
          "metadata": {},
          "execution_count": 42
        }
      ]
    },
    {
      "cell_type": "code",
      "source": [
        "A = np.array([[1, 1, 1],\n",
        "    [-1, -3, -3],\n",
        "      [2, 4,4]]   ) \n",
        "         \n",
        "my_SVD(A)"
      ],
      "metadata": {
        "colab": {
          "base_uri": "https://localhost:8080/"
        },
        "id": "Jlz_g3llZ41f",
        "outputId": "26101174-61b3-4dfc-8484-2b92a1b33462"
      },
      "id": "Jlz_g3llZ41f",
      "execution_count": 43,
      "outputs": [
        {
          "output_type": "execute_result",
          "data": {
            "text/plain": [
              "(array([[-0.21821511,  0.78679656, -0.78679656],\n",
              "        [ 0.57227826,  0.58237811, -0.58237811],\n",
              "        [-0.79049337,  0.20441846, -0.20441846]]),\n",
              " array([[7.58836029e+00, 0.00000000e+00, 0.00000000e+00],\n",
              "        [0.00000000e+00, 6.45591314e-01, 0.00000000e+00],\n",
              "        [0.00000000e+00, 0.00000000e+00, 6.28036983e-16]]),\n",
              " array([[-0.31251549, -0.67168969, -0.67168969],\n",
              "        [ 0.94991267, -0.22098182, -0.22098182],\n",
              "        [ 0.94991267, -0.22098182, -0.22098182]]),\n",
              " array([[ 1.,  1.,  1.],\n",
              "        [-1., -3., -3.],\n",
              "        [ 2.,  4.,  4.]]))"
            ]
          },
          "metadata": {},
          "execution_count": 43
        }
      ]
    }
  ],
  "metadata": {
    "kernelspec": {
      "display_name": "Python 3 (ipykernel)",
      "language": "python",
      "name": "python3"
    },
    "language_info": {
      "codemirror_mode": {
        "name": "ipython",
        "version": 3
      },
      "file_extension": ".py",
      "mimetype": "text/x-python",
      "name": "python",
      "nbconvert_exporter": "python",
      "pygments_lexer": "ipython3",
      "version": "3.9.13"
    },
    "colab": {
      "provenance": []
    }
  },
  "nbformat": 4,
  "nbformat_minor": 5
}